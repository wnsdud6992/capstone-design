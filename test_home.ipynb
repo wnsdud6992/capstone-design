{
  "nbformat": 4,
  "nbformat_minor": 0,
  "metadata": {
    "colab": {
      "name": "Untitled1.ipynb",
      "private_outputs": true,
      "provenance": [],
      "collapsed_sections": []
    },
    "kernelspec": {
      "name": "python3",
      "display_name": "Python 3"
    },
    "language_info": {
      "name": "python"
    }
  },
  "cells": [
    {
      "cell_type": "code",
      "metadata": {
        "id": "6sen3oAhYP1N"
      },
      "source": [
        "from google.colab import drive\n",
        "drive.mount('/content/drive')"
      ],
      "execution_count": null,
      "outputs": []
    },
    {
      "cell_type": "code",
      "metadata": {
        "id": "Vo9wGRRHYSlk"
      },
      "source": [
        "import matplotlib.pyplot as plt\n",
        "import os, glob\n",
        "cwd = os.getcwd()\n",
        "import numpy as np\n",
        "import cv2\n",
        "from google.colab.patches import cv2_imshow"
      ],
      "execution_count": null,
      "outputs": []
    },
    {
      "cell_type": "code",
      "metadata": {
        "id": "8TT_X52iYSrF"
      },
      "source": [
        "im = cv2.imread('/content/drive/MyDrive/test/home.jpg')\n",
        "im=cv2.resize(im, (1434,1080))"
      ],
      "execution_count": null,
      "outputs": []
    },
    {
      "cell_type": "code",
      "metadata": {
        "id": "sX7HPJBpYStt"
      },
      "source": [
        "arr=[]\n",
        "for i in range(10): \n",
        "    cv2.rectangle(im,(120+80*i,872),(200+80*i,1020),(0,0,255))\n",
        "    arr.append(((120+80*i,872,200+80*i,1020))) #x1 y1, x2, y2순으로 arr에 저장\n",
        "for i in range(14):\n",
        "    cv2.rectangle(im,(300+50*i,299-i//3),(350+50*i,360-i//3),(0,0,255))\n",
        "    arr.append(((300+50*i,299-i//3,350+50*i,360-i//3)))"
      ],
      "execution_count": null,
      "outputs": []
    },
    {
      "cell_type": "code",
      "metadata": {
        "id": "MPa4n9rlYSwh"
      },
      "source": [
        "cv2_imshow(im)"
      ],
      "execution_count": null,
      "outputs": []
    },
    {
      "cell_type": "code",
      "metadata": {
        "id": "lPvB9sCxYSzb"
      },
      "source": [
        "arr"
      ],
      "execution_count": null,
      "outputs": []
    },
    {
      "cell_type": "code",
      "metadata": {
        "id": "MpBQ86uzHgZj"
      },
      "source": [
        ""
      ],
      "execution_count": null,
      "outputs": []
    },
    {
      "cell_type": "code",
      "metadata": {
        "id": "-TuJtphFHgk3"
      },
      "source": [
        "from PIL import Image\n",
        "from keras.applications.imagenet_utils import preprocess_input\n",
        "from keras.models import load_model\n",
        "from keras.preprocessing import image"
      ],
      "execution_count": null,
      "outputs": []
    },
    {
      "cell_type": "code",
      "metadata": {
        "id": "rn-PyzhmJ5wB"
      },
      "source": [
        "cwd = os.getcwd()\n",
        "top_model_weights_path = '/content/drive/MyDrive/test/model.h5'\n",
        "\n",
        "class_dictionary = {}\n",
        "class_dictionary[0] = 'full'\n",
        "class_dictionary[1] = 'empty'\n",
        "class_dictionary[2] = 'Disabled'"
      ],
      "execution_count": null,
      "outputs": []
    },
    {
      "cell_type": "code",
      "metadata": {
        "id": "pneMg6J-J5yn"
      },
      "source": [
        "model = load_model(top_model_weights_path)"
      ],
      "execution_count": null,
      "outputs": []
    },
    {
      "cell_type": "code",
      "metadata": {
        "id": "wXdPFtxDJ51d"
      },
      "source": [
        "def make_prediction(image):\n",
        "    img = image/255.\n",
        "    #convert to a 4D tensor\n",
        "    image = np.expand_dims(img, axis=0)\n",
        "    #print(image.shape)\n",
        "\n",
        "    # make prediction\n",
        "    class_predicted = model.predict(image)\n",
        "    inID = np.argmax(class_predicted[0])\n",
        "    label = class_dictionary[inID]\n",
        "    return label"
      ],
      "execution_count": null,
      "outputs": []
    },
    {
      "cell_type": "code",
      "metadata": {
        "id": "3xtZNUiNJ54H"
      },
      "source": [
        "def predict_on_image(im, spot_dict = arr, make_copy=True, color = [0, 255, 0], alpha=0.5):\n",
        "    if make_copy:\n",
        "        new_image = np.copy(im)\n",
        "        overlay = np.copy(im)\n",
        "    cnt_empty = 0\n",
        "    cnt_disabled=0\n",
        "    all_spots = 0\n",
        "\n",
        "    for spot in spot_dict:\n",
        "        all_spots += 1\n",
        "        (x1, y1, x2, y2) = spot\n",
        "        (x1, y1, x2, y2) = (int(x1), int(y1), int(x2), int(y2))\n",
        "        #crop this image\n",
        "        spot_img = im[y1:y2, x1:x2]\n",
        "        spot_img = cv2.resize(spot_img, (224, 224))\n",
        "\n",
        "        label = make_prediction(spot_img)\n",
        "        if label == 'empty':\n",
        "            cv2.rectangle(overlay, (int(x1),int(y1)), (int(x2),int(y2)), color,-1)\n",
        "            cnt_empty += 1\n",
        "        elif label == 'full':\n",
        "            cv2.rectangle(overlay, (int(x1),int(y1)), (int(x2),int(y2)), (0,0,255),-1)\n",
        "        else:\n",
        "            cv2.rectangle(overlay, (int(x1),int(y1)), (int(x2),int(y2)), (255,0,0),-1)\n",
        "            cnt_disabled+=1\n",
        "            \n",
        "            \n",
        "    cv2.addWeighted(overlay, alpha, new_image, 1 - alpha, 0, new_image)\n",
        "    \n",
        "    cv2.putText(new_image, \"Total: %d spots\" %all_spots, (30, 55),\n",
        "    cv2.FONT_HERSHEY_SIMPLEX,\n",
        "    0.7, (0, 0, 0), 2)\n",
        "    save = False\n",
        "\n",
        "    cv2.putText(new_image, \"Available: %d spots\" %cnt_empty, (30, 85),\n",
        "    cv2.FONT_HERSHEY_SIMPLEX,\n",
        "    0.7, (255, 255, 255), 2)\n",
        "\n",
        "    cv2.putText(new_image, \"Disabled: %d spots\" %cnt_disabled, (30, 115),\n",
        "    cv2.FONT_HERSHEY_SIMPLEX,\n",
        "    0.7, (255, 255, 255), 2)\n",
        "    \n",
        "    if save:\n",
        "        filename = 'with_marking.jpg'\n",
        "        cv2.imwrite(filename, new_image)\n",
        "    \n",
        "    return new_image\n",
        "\n",
        "\n",
        "predicted_images = predict_on_image(im, arr, make_copy=True, color = [0, 255, 0], alpha=0.5)\n",
        "predicted_images=cv2.resize(predicted_images, (700,500))\n",
        "cv2_imshow(predicted_images)"
      ],
      "execution_count": null,
      "outputs": []
    },
    {
      "cell_type": "code",
      "metadata": {
        "id": "rlEmzX7f_Q5k"
      },
      "source": [
        "   spot_img = im[y1:y2, x1:x2]\n",
        "    spot_img = cv2.resize(spot_img, (224, 224))\n",
        "    (200, 872, 280, 1020)"
      ],
      "execution_count": null,
      "outputs": []
    },
    {
      "cell_type": "code",
      "metadata": {
        "id": "8ed9fSaCTZVE"
      },
      "source": [
        "new=im[872:1020,1200:1300]\n",
        "cv2_imshow(new)\n",
        "new=cv2.resize(new,(224,224))\n",
        "img = new/255.\n",
        "new = np.expand_dims(img, axis=0)\n",
        "a=model.predict(new)\n",
        "a"
      ],
      "execution_count": null,
      "outputs": []
    },
    {
      "cell_type": "code",
      "metadata": {
        "id": "bVOhk3GFJ565"
      },
      "source": [
        ""
      ],
      "execution_count": null,
      "outputs": []
    }
  ]
}